{
 "cells": [
  {
   "cell_type": "code",
   "execution_count": 58,
   "id": "b8bd7484",
   "metadata": {},
   "outputs": [],
   "source": [
    "import cv2\n",
    "from matplotlib import pyplot as plt\n",
    "import numpy as np\n",
    "import imutils\n",
    "import pytesseract"
   ]
  },
  {
   "cell_type": "code",
   "execution_count": 59,
   "id": "2578ce86",
   "metadata": {},
   "outputs": [],
   "source": [
    "# Set the Tesseract executable path (replace with your Tesseract installation path)\n",
    "pytesseract.pytesseract.tesseract_cmd = r'C:\\Program Files\\Tesseract-OCR\\tesseract.exe'"
   ]
  },
  {
   "cell_type": "code",
   "execution_count": 60,
   "id": "6bfd346b",
   "metadata": {},
   "outputs": [
    {
     "data": {
      "text/plain": [
       "-1"
      ]
     },
     "execution_count": 60,
     "metadata": {},
     "output_type": "execute_result"
    }
   ],
   "source": [
    "image = cv2.imread(\"test4.png\")\n",
    "cv2.imshow(\"Original Image\", image)\n",
    "cv2.waitKey(0)\n",
    "cv2.destroyAllWindows()\n",
    "cv2.waitKey(1)"
   ]
  },
  {
   "cell_type": "code",
   "execution_count": 50,
   "id": "16773e27",
   "metadata": {},
   "outputs": [],
   "source": [
    "#deskewing the image\n",
    "gray = cv2.cvtColor(image, cv2.COLOR_BGR2GRAY)\n",
    "\n",
    "# Use Hough Line Transform to detect lines in the image\n",
    "lines = cv2.HoughLines(gray, 1, np.pi/180, 200)\n",
    "\n",
    "# Calculate the angle of the first detected line\n",
    "if lines is not None and len(lines) > 0:\n",
    "    rho, theta = lines[0][0]\n",
    "    angle = theta * 180 / np.pi\n",
    "else:\n",
    "    angle = 0\n",
    "\n",
    "        \n",
    "# Rotate the image to deskew it\n",
    "rotated = imutils.rotate(image, -angle)"
   ]
  },
  {
   "cell_type": "code",
   "execution_count": 51,
   "id": "9b64c00b",
   "metadata": {},
   "outputs": [
    {
     "data": {
      "text/plain": [
       "-1"
      ]
     },
     "execution_count": 51,
     "metadata": {},
     "output_type": "execute_result"
    }
   ],
   "source": [
    "cv2.imshow(\"Deskewed Image\", rotated)\n",
    "cv2.waitKey(0)\n",
    "cv2.destroyAllWindows()\n",
    "cv2.waitKey(1)"
   ]
  },
  {
   "cell_type": "code",
   "execution_count": 61,
   "id": "2a4c450f",
   "metadata": {},
   "outputs": [],
   "source": []
  },
  {
   "cell_type": "code",
   "execution_count": null,
   "id": "6e714ea3",
   "metadata": {},
   "outputs": [],
   "source": []
  }
 ],
 "metadata": {
  "kernelspec": {
   "display_name": "Python 3 (ipykernel)",
   "language": "python",
   "name": "python3"
  },
  "language_info": {
   "codemirror_mode": {
    "name": "ipython",
    "version": 3
   },
   "file_extension": ".py",
   "mimetype": "text/x-python",
   "name": "python",
   "nbconvert_exporter": "python",
   "pygments_lexer": "ipython3",
   "version": "3.11.5"
  }
 },
 "nbformat": 4,
 "nbformat_minor": 5
}
