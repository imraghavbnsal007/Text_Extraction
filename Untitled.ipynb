{
 "cells": [
  {
   "cell_type": "code",
   "execution_count": 7,
   "id": "4669142c-07b6-43d7-a59d-aeb32deb33aa",
   "metadata": {},
   "outputs": [],
   "source": [
    "import cv2\n",
    "from matplotlib import pyplot as plt\n",
    "import numpy as np\n",
    "\n",
    "input_image_path = cv2.imread('./resource/quote.jpeg')\n",
    "I = cv2.cvtColor(cv2.imread(\"./resource/quote.jpeg\") , cv2.COLOR_RGB2BGR)\n",
    "\n",
    "grayScale = cv2.cvtColor(I, cv2.COLOR_BGR2GRAY)\n",
    "\n",
    "# cv2.imshow('grayText', grayScale)\n",
    "# cv2.waitKey(0)\n",
    "# cv2.destroyAllWindows()\n",
    "# for i in range (1,5):\n",
    "#     cv2.waitKey(1)\n",
    "\n",
    "# invert black to white and white to black\n",
    "inverted_image = cv2.bitwise_not(grayScale)\n",
    "cv2.imwrite(\"preprocess/inverted.jpeg\", inverted_image)\n",
    "\n",
    "# cv2.imshow('inverted_image', inverted_image)\n",
    "# cv2.waitKey(0)\n",
    "# cv2.destroyAllWindows()\n",
    "# for i in range (1,5):\n",
    "#     cv2.waitKey(1)\n",
    "\n",
    "# adjust the threshold \n",
    "thresh, blackWhite = cv2.threshold(grayScale, 160,300, cv2.THRESH_BINARY)\n",
    "cv2.imwrite(\"preprocess/blackWhite.jpeg\", blackWhite)\n",
    "\n",
    "cv2.imshow('binarized', blackWhite)\n",
    "cv2.waitKey(0)\n",
    "cv2.destroyAllWindows()\n",
    "for i in range (1,5):\n",
    "    cv2.waitKey(1)"
   ]
  },
  {
   "cell_type": "code",
   "execution_count": null,
   "id": "30c5650c-8a50-4e31-9b85-f4e02b52a35f",
   "metadata": {},
   "outputs": [],
   "source": []
  }
 ],
 "metadata": {
  "kernelspec": {
   "display_name": "Python 3 (ipykernel)",
   "language": "python",
   "name": "python3"
  },
  "language_info": {
   "codemirror_mode": {
    "name": "ipython",
    "version": 3
   },
   "file_extension": ".py",
   "mimetype": "text/x-python",
   "name": "python",
   "nbconvert_exporter": "python",
   "pygments_lexer": "ipython3",
   "version": "3.11.6"
  }
 },
 "nbformat": 4,
 "nbformat_minor": 5
}
