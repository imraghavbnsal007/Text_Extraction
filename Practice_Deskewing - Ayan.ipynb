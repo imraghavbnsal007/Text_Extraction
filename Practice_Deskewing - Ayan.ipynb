{
 "cells": [
  {
   "cell_type": "code",
   "execution_count": 58,
   "id": "87a23748",
   "metadata": {},
   "outputs": [],
   "source": [
    "import cv2\n",
    "from matplotlib import pyplot as plt\n",
    "import numpy as np\n",
    "import imutils\n",
    "import pytesseract"
   ]
  },
  {
   "cell_type": "code",
   "execution_count": 59,
   "id": "c0de1642",
   "metadata": {},
   "outputs": [],
   "source": [
    "# Set the Tesseract executable path (replace with your Tesseract installation path)\n",
    "pytesseract.pytesseract.tesseract_cmd = r'C:\\Program Files\\Tesseract-OCR\\tesseract.exe'"
   ]
  },
  {
   "cell_type": "code",
   "execution_count": 60,
   "id": "4e921baf",
   "metadata": {},
   "outputs": [
    {
     "data": {
      "text/plain": [
       "-1"
      ]
     },
     "execution_count": 60,
     "metadata": {},
     "output_type": "execute_result"
    }
   ],
   "source": [
    "image = cv2.imread(\"test4.png\")\n",
    "cv2.imshow(\"Original Image\", image)\n",
    "cv2.waitKey(0)\n",
    "cv2.destroyAllWindows()\n",
    "cv2.waitKey(1)"
   ]
  },
  {
   "cell_type": "code",
   "execution_count": 50,
   "id": "fa9b3f5c",
   "metadata": {},
   "outputs": [],
   "source": [
    "#deskewing the image\n",
    "gray = cv2.cvtColor(image, cv2.COLOR_BGR2GRAY)\n",
    "\n",
    "# Use Hough Line Transform to detect lines in the image\n",
    "lines = cv2.HoughLines(gray, 1, np.pi/180, 200)\n",
    "\n",
    "# Calculate the angle of the first detected line\n",
    "if lines is not None and len(lines) > 0:\n",
    "    rho, theta = lines[0][0]\n",
    "    angle = theta * 180 / np.pi\n",
    "else:\n",
    "    angle = 0\n",
    "\n",
    "        \n",
    "# Rotate the image to deskew it\n",
    "rotated = imutils.rotate(image, -angle)"
   ]
  },
  {
   "cell_type": "code",
   "execution_count": 51,
   "id": "b13b85fa",
   "metadata": {},
   "outputs": [
    {
     "data": {
      "text/plain": [
       "-1"
      ]
     },
     "execution_count": 51,
     "metadata": {},
     "output_type": "execute_result"
    }
   ],
   "source": [
    "cv2.imshow(\"Deskewed Image\", rotated)\n",
    "cv2.waitKey(0)\n",
    "cv2.destroyAllWindows()\n",
    "cv2.waitKey(1)"
   ]
  },
  {
   "cell_type": "code",
   "execution_count": 69,
   "id": "3e96667c",
   "metadata": {},
   "outputs": [
    {
     "data": {
      "text/plain": [
       "-1"
      ]
     },
     "execution_count": 69,
     "metadata": {},
     "output_type": "execute_result"
    }
   ],
   "source": [
    "def deskew_image(image):\n",
    "    # Convert the image to grayscale\n",
    "    gray = cv2.cvtColor(image, cv2.COLOR_BGR2GRAY)\n",
    "\n",
    "    # Use Hough Line Transform to detect lines in the image\n",
    "    lines = cv2.HoughLines(gray, 1, np.pi / 180, 200)\n",
    "\n",
    "    # Calculate the angle of the first detected line\n",
    "    if lines is not None and len(lines) > 0:\n",
    "        rho, theta = lines[0][0]\n",
    "        angle = theta * 180 / np.pi\n",
    "    else:\n",
    "        angle = 0\n",
    "\n",
    "    # Rotate the image to deskew it\n",
    "    rotated = imutils.rotate(image, -angle)\n",
    "\n",
    "    return rotated\n",
    "\n",
    "def correct_orientation(image):\n",
    "    # Use Tesseract OCR to detect text and get orientation\n",
    "    extracted_text = pytesseract.image_to_osd(image)\n",
    "    orientation = int(extracted_text.split('\\n')[0].split(': ')[1])\n",
    "\n",
    "    # Rotate the image to align with the text\n",
    "    rotated = imutils.rotate(image, orientation)\n",
    "    return rotated\n",
    "\n",
    "# Load your image\n",
    "image = cv2.imread('test5.jpg')\n",
    "\n",
    "# Deskew the image\n",
    "deskewed_image = deskew_image(image)\n",
    "\n",
    "# Correct the orientation\n",
    "oriented_image = correct_orientation(deskewed_image)\n",
    "\n",
    "# Display the original, deskewed, and oriented images\n",
    "cv2.imshow(\"Original Image\", image)\n",
    "cv2.imshow(\"Deskewed Image\", deskewed_image)\n",
    "cv2.imshow(\"Oriented Image\", oriented_image)\n",
    "cv2.waitKey(0)\n",
    "cv2.destroyAllWindows()\n",
    "cv2.waitKey(1)\n"
   ]
  },
  {
   "cell_type": "code",
   "execution_count": 72,
   "id": "f51a0174",
   "metadata": {},
   "outputs": [],
   "source": [
    "#using adaptive threshold\n",
    "grayScale = cv2.cvtColor(oriented_image, cv2.COLOR_BGR2GRAY)\n",
    "B1 = cv2.adaptiveThreshold(grayScale, maxValue = 255, adaptiveMethod = cv2.ADAPTIVE_THRESH_GAUSSIAN_C, thresholdType = cv2.THRESH_BINARY, blockSize = 5, C = 15)"
   ]
  },
  {
   "cell_type": "code",
   "execution_count": null,
   "id": "3084ff49",
   "metadata": {},
   "outputs": [],
   "source": [
    "cv2.imshow(\"Oriented Threshold\", B1)\n",
    "cv2.waitKey(0)\n",
    "cv2.destroyAllWindows()\n",
    "cv2.waitKey(1)"
   ]
  },
  {
   "cell_type": "code",
   "execution_count": null,
   "id": "33f0c751",
   "metadata": {},
   "outputs": [],
   "source": []
  }
 ],
 "metadata": {
  "kernelspec": {
   "display_name": "Python 3 (ipykernel)",
   "language": "python",
   "name": "python3"
  },
  "language_info": {
   "codemirror_mode": {
    "name": "ipython",
    "version": 3
   },
   "file_extension": ".py",
   "mimetype": "text/x-python",
   "name": "python",
   "nbconvert_exporter": "python",
   "pygments_lexer": "ipython3",
   "version": "3.11.5"
  }
 },
 "nbformat": 4,
 "nbformat_minor": 5
}
